{
 "cells": [
  {
   "cell_type": "code",
   "execution_count": 77,
   "metadata": {},
   "outputs": [],
   "source": [
    "import pandas as pd\n",
    "import requests\n",
    "import time\n",
    "import datetime\n",
    "from io import StringIO\n",
    "from bs4 import BeautifulSoup\n",
    "\n",
    "# 展開報表結果\n",
    "pd.set_option('display.max_rows', 2000)\n",
    "pd.set_option('display.max_columns', 2000)\n",
    "pd.set_option('display.width', 1000)\n",
    "\n",
    "# 來源檔\n",
    "CODE_SOURCE_FILE_PATH = 'C:/Users/Skyluck/Desktop/A.xlsx'\n",
    "\n",
    "# 股價檔\n",
    "CURRENT_PRICE_FILE_PATH = 'C:/Users/Skyluck/Desktop/B.xlsx'\n",
    "\n",
    "# 產出股價現值更新檔路徑\n",
    "GEN_RESULT_FILE_PATH = 'C:/Users/Skyluck/Desktop/result.xlsx'\n",
    "\n",
    "#產出來源檔有，股價檔沒有之清單\n",
    "EXIST_IN_SOURCE_BUT_NOT_IN_PRICE_FILE_PATH = 'C:/Users/Skyluck/Desktop/來源檔有_股價檔沒有清單.xlsx'\n",
    "\n",
    "#產出來源檔沒有，股價檔有之清單\n",
    "NOT_IN_SOURCE_BUT_EXIST_IN_PRICE_FILE_PATH = 'C:/Users/Skyluck/Desktop/來源檔沒有_股價檔有清單.xlsx'\n",
    "\n",
    "#讀取來源檔\n",
    "df_code = pd.read_excel(CODE_SOURCE_FILE_PATH, header = None, names=['代碼'])\n",
    "\n",
    "#讀取股價檔\n",
    "df_price = pd.read_excel(CURRENT_PRICE_FILE_PATH, header = None, names=['代碼','代碼名稱','現價'])\n",
    "\n",
    "#取兩檔之交集\n",
    "df_result = df_code.merge(df_price,how='left',on='代碼').reset_index(drop=True)\n",
    "df_result = df_result.drop(columns=['代碼名稱'])\n",
    "df_result\n",
    "\n",
    "#以來源檔做left join\n",
    "df_result_source = df_code.merge(df_price,how='left',on='代碼')\n",
    "df_result_source = df_result_source[pd.isnull(df_result_source['現價'])]\n",
    "df_result_source = pd.DataFrame(df_result_source['代碼']).reset_index(drop=True)\n",
    "\n",
    "#以股價檔做left join\n",
    "df_code['match'] = True\n",
    "df_result_price = df_price.merge(df_code,how='left',on='代碼')\n",
    "df_result_price = df_result_price[pd.isnull(df_result_price['match'])]\n",
    "df_result_price = pd.DataFrame(df_result_price['代碼']).reset_index(drop=True)\n",
    "\n",
    "#產檔\n",
    "df_result.to_excel(GEN_RESULT_FILE_PATH, encoding=\"utf_8_sig\")\n",
    "df_result.to_excel(EXIST_IN_SOURCE_BUT_NOT_IN_PRICE_FILE_PATH, encoding=\"utf_8_sig\")\n",
    "df_result.to_excel(NOT_IN_SOURCE_BUT_EXIST_IN_PRICE_FILE_PATH, encoding=\"utf_8_sig\")\n",
    "\n",
    "\n",
    "\n"
   ]
  }
 ],
 "metadata": {
  "kernelspec": {
   "display_name": "Python 3 (ipykernel)",
   "language": "python",
   "name": "python3"
  },
  "language_info": {
   "codemirror_mode": {
    "name": "ipython",
    "version": 3
   },
   "file_extension": ".py",
   "mimetype": "text/x-python",
   "name": "python",
   "nbconvert_exporter": "python",
   "pygments_lexer": "ipython3",
   "version": "3.8.3"
  }
 },
 "nbformat": 4,
 "nbformat_minor": 4
}
