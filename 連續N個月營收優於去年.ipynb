{
 "cells": [
  {
   "cell_type": "code",
   "execution_count": 1,
   "metadata": {},
   "outputs": [],
   "source": [
    "import pandas as pd\n",
    "import requests\n",
    "from io import StringIO\n",
    "import time\n",
    "from bs4 import BeautifulSoup\n",
    "\n",
    "# 展開報表結果\n",
    "pd.set_option('display.max_rows', 2000)\n",
    "pd.set_option('display.max_columns', 2000)\n",
    "pd.set_option('display.width', 1000)\n",
    "\n",
    "def monthly_report(year, month, trace_month, companies, is_first):\n",
    "    \n",
    "    # 追蹤月數\n",
    "    trace_month = trace_month - 1\n",
    "    \n",
    "    # 假如是西元，轉成民國\n",
    "    if year > 1990:\n",
    "        year -= 1911\n",
    "    \n",
    "    url = 'https://mops.twse.com.tw/nas/t21/sii/t21sc03_'+str(year)+'_'+str(month)+'_0.html'\n",
    "    if year <= 98:\n",
    "        url = 'https://mops.twse.com.tw/nas/t21/sii/t21sc03_'+str(year)+'_'+str(month)+'.html'\n",
    "    \n",
    "    # 偽瀏覽器\n",
    "    headers = {'User-Agent': 'Mozilla/5.0 (Macintosh; Intel Mac OS X 10_10_1) AppleWebKit/537.36 (KHTML, like Gecko) Chrome/39.0.2171.95 Safari/537.36'}\n",
    "    \n",
    "    # 下載該年月的網站，並用pandas轉換成 dataframe\n",
    "    r = requests.get(url, headers=headers)\n",
    "    r.encoding = 'big5'\n",
    "\n",
    "    dfs = pd.read_html(StringIO(r.text), encoding='big5')\n",
    "    \n",
    "    # 取出column數大於5小於11之資料\n",
    "    df = pd.concat([df for df in dfs if df.shape[1] <= 11 and df.shape[1] > 5])\n",
    "    \n",
    "    # 將雙層colume簡化為一層\n",
    "    if 'levels' in dir(df.columns):\n",
    "        df.columns = df.columns.get_level_values(1).str.replace(r'\\W','',regex=True)\n",
    "    else:\n",
    "        df = df[list(range(0,10))]\n",
    "        column_index = df.index[(df[0] == '公司代號'.decode('utf-8'))][0]\n",
    "        df.columns = df.iloc[column_index]\n",
    "        \n",
    "    df['當月營收'] = pd.to_numeric(df['當月營收'], 'coerce')\n",
    "    df = df[~df['當月營收'].isnull()]\n",
    "    df = df[df['公司代號'] != '合計']\n",
    "    \n",
    "    new_companies = []\n",
    "    if len(companies) > 0:\n",
    "        df = df[df['公司代號'].isin(companies)]\n",
    "    elif len(companies) == 0 and is_first == False :\n",
    "        result = [\"沒有資料\"]\n",
    "        result_dict = {\"result\":result}\n",
    "        df = pd.DataFrame(result_dict)\n",
    "        return df\n",
    "    \n",
    "    df = df[pd.to_numeric(df['去年同月增減'], errors='coerce') > 0]\n",
    "    new_companies = df['公司代號'].values\n",
    "    \n",
    "    if trace_month >= 1 :\n",
    "        is_first = False\n",
    "        month = month - 1\n",
    "        if month == 0 :\n",
    "            month = 12\n",
    "            year = year - 1\n",
    "        df = monthly_report(year, month, trace_month, new_companies, is_first)\n",
    "    else :\n",
    "        return df\n",
    "    \n",
    "    return df"
   ]
  },
  {
   "cell_type": "code",
   "execution_count": null,
   "metadata": {},
   "outputs": [],
   "source": [
    "year = 2023\n",
    "month = 7\n",
    "trace_month = 6\n",
    "companies = []\n",
    "df = monthly_report(year, month, trace_month, companies, is_first=True)\n",
    "df = df.reset_index(drop=True)\n",
    "df"
   ]
  },
  {
   "cell_type": "code",
   "execution_count": null,
   "metadata": {},
   "outputs": [],
   "source": [
    "year = 2023\n",
    "month = 6\n",
    "trace_month = 6\n",
    "companies = []\n",
    "df2 = monthly_report(year, month, trace_month, companies, is_first=True)\n",
    "df2 = df2.reset_index(drop=True)\n",
    "df2"
   ]
  },
  {
   "cell_type": "code",
   "execution_count": 4,
   "metadata": {},
   "outputs": [],
   "source": [
    "df3 = df2[~df2['公司代號'].isin(df['公司代號'])]\n",
    "df3 = df3.reset_index(drop=True)\n",
    "df3.to_csv('C:/Users/Skyluck/Desktop/差異減少.csv', encoding=\"utf_8_sig\")\n",
    "\n",
    "df4 = df[~df['公司代號'].isin(df2['公司代號'])]\n",
    "df4 = df4.reset_index(drop=True)\n",
    "df4.to_csv('C:/Users/Skyluck/Desktop/差異新增.csv', encoding=\"utf_8_sig\")"
   ]
  },
  {
   "cell_type": "code",
   "execution_count": null,
   "metadata": {},
   "outputs": [],
   "source": []
  }
 ],
 "metadata": {
  "kernelspec": {
   "display_name": "Python 3 (ipykernel)",
   "language": "python",
   "name": "python3"
  },
  "language_info": {
   "codemirror_mode": {
    "name": "ipython",
    "version": 3
   },
   "file_extension": ".py",
   "mimetype": "text/x-python",
   "name": "python",
   "nbconvert_exporter": "python",
   "pygments_lexer": "ipython3",
   "version": "3.8.5"
  }
 },
 "nbformat": 4,
 "nbformat_minor": 4
}
