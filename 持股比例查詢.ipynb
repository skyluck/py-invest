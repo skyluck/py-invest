{
 "cells": [
  {
   "cell_type": "code",
   "execution_count": 20,
   "metadata": {},
   "outputs": [
    {
     "name": "stdout",
     "output_type": "stream",
     "text": [
      "['menu']\n"
     ]
    }
   ],
   "source": [
    "# 請幫我產一段python的程式碼可以對一個url發送get\n",
    "\n",
    "import requests\n",
    "from bs4 import BeautifulSoup\n",
    "\n",
    "# 設定 headers 模擬瀏覽器請求\n",
    "headers = {\n",
    "    'User-Agent': 'Mozilla/5.0 (Windows NT 10.0; Win64; x64) AppleWebKit/537.36 (KHTML, like Gecko) Chrome/122.0.0.0 Safari/537.36',\n",
    "    'Accept': 'text/html,application/xhtml+xml,application/xml;q=0.9,image/webp,image/apng,*/*;q=0.8',\n",
    "    'Accept-Language': 'zh-TW,zh;q=0.9,en-US;q=0.8,en;q=0.7',\n",
    "}\n",
    "\n",
    "url = 'https://www.tdcc.com.tw/portal/zh/smWeb/qryStock'\n",
    "response = requests.get(url, headers=headers)\n",
    "\n",
    "# 解析html\n",
    "soup = BeautifulSoup(response.content, 'html.parser')\n",
    "\n",
    "# 取得id為megaMenu的DOM，並將他的class屬性值取出\n",
    "mega_menu = soup.find(id=\"SYNCHRONIZER_TOKEN\")\n",
    "\n",
    "# 取得mega_menu的class屬性值\n",
    "print(mega_menu.get('value'))\n",
    "\n",
    "\n",
    "\n",
    "\n",
    "\n"
   ]
  }
 ],
 "metadata": {
  "kernelspec": {
   "display_name": "Python 3 (ipykernel)",
   "language": "python",
   "name": "python3"
  },
  "language_info": {
   "codemirror_mode": {
    "name": "ipython",
    "version": 3
   },
   "file_extension": ".py",
   "mimetype": "text/x-python",
   "name": "python",
   "nbconvert_exporter": "python",
   "pygments_lexer": "ipython3",
   "version": "3.8.5"
  }
 },
 "nbformat": 4,
 "nbformat_minor": 4
}
