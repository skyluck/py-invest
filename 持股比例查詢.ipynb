{
 "cells": [
  {
   "cell_type": "code",
   "execution_count": 1,
   "metadata": {},
   "outputs": [
    {
     "name": "stdout",
     "output_type": "stream",
     "text": [
      "SYNCHRONIZER_TOKEN 的內容: 0d9db67d-769f-46d2-aff7-e01441dc69e3\n",
      "Cookie _ga_PZZ1MN4BZ8: GS1.1.1737476828.1.0.1737476828.0.0.0\n"
     ]
    }
   ],
   "source": [
    "from selenium import webdriver\n",
    "from selenium.webdriver.common.by import By\n",
    "\n",
    "# 初始化瀏覽器\n",
    "driver = webdriver.Chrome()  # 確保 WebDriver 在 PATH 中，或指定 driver 路徑\n",
    "\n",
    "# 開啟目標網站\n",
    "url = \"https://www.tdcc.com.tw/portal/zh/smWeb/qryStock\"\n",
    "driver.get(url)\n",
    "\n",
    "# 取得 HTML 中 id 為 SYNCHRONIZER_TOKEN 的元素\n",
    "try:\n",
    "    element = driver.find_element(By.ID, \"SYNCHRONIZER_TOKEN\")\n",
    "    print(\"SYNCHRONIZER_TOKEN 的內容:\", element.get_attribute(\"value\"))  # 如果是 input，取 value 屬性\n",
    "except Exception as e:\n",
    "    print(\"無法找到 SYNCHRONIZER_TOKEN 元素:\", str(e))\n",
    "\n",
    "# 取得 name 為 _ga_PZZ1MN4BZ8 的 Cookie\n",
    "cookie_name = \"_ga_PZZ1MN4BZ8\"\n",
    "cookie = None\n",
    "try:\n",
    "    cookie = driver.get_cookie(cookie_name)\n",
    "    if cookie:\n",
    "        print(f\"Cookie {cookie_name}: {cookie['value']}\")\n",
    "    else:\n",
    "        print(f\"Cookie {cookie_name} 不存在\")\n",
    "except Exception as e:\n",
    "    print(\"無法取得 Cookie:\", str(e))\n",
    "\n",
    "# 關閉瀏覽器\n",
    "driver.quit()"
   ]
  }
 ],
 "metadata": {
  "kernelspec": {
   "display_name": "Python 3 (ipykernel)",
   "language": "python",
   "name": "python3"
  },
  "language_info": {
   "codemirror_mode": {
    "name": "ipython",
    "version": 3
   },
   "file_extension": ".py",
   "mimetype": "text/x-python",
   "name": "python",
   "nbconvert_exporter": "python",
   "pygments_lexer": "ipython3",
   "version": "3.8.5"
  }
 },
 "nbformat": 4,
 "nbformat_minor": 4
}
